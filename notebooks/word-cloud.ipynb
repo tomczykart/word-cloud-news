{
 "cells": [
  {
   "cell_type": "code",
   "execution_count": 94,
   "metadata": {},
   "outputs": [],
   "source": [
    "#imports\n",
    "import requests\n",
    "from bs4 import BeautifulSoup\n",
    "\n",
    "import pandas as pd\n",
    "import numpy as np\n",
    "import os"
   ]
  },
  {
   "cell_type": "code",
   "execution_count": 95,
   "metadata": {},
   "outputs": [],
   "source": [
    "GUARDIAN_KEY = os.getenv('GUARDIAN_KEY')"
   ]
  },
  {
   "cell_type": "code",
   "execution_count": 96,
   "metadata": {},
   "outputs": [],
   "source": [
    "url = f'https://content.guardianapis.com/news?order-by=newest&api-key={GUARDIAN_KEY}'"
   ]
  },
  {
   "cell_type": "code",
   "execution_count": 97,
   "metadata": {},
   "outputs": [
    {
     "data": {
      "text/plain": [
       "200"
      ]
     },
     "execution_count": 97,
     "metadata": {},
     "output_type": "execute_result"
    }
   ],
   "source": [
    "r = requests.get(url)\n",
    "r.status_code"
   ]
  },
  {
   "cell_type": "code",
   "execution_count": 98,
   "metadata": {},
   "outputs": [],
   "source": [
    "news = r.json()"
   ]
  },
  {
   "cell_type": "code",
   "execution_count": 99,
   "metadata": {},
   "outputs": [],
   "source": [
    "news = news['response']['results']\n",
    "df = pd.DataFrame(news)"
   ]
  },
  {
   "cell_type": "code",
   "execution_count": 100,
   "metadata": {},
   "outputs": [],
   "source": [
    "news_links = df['webUrl']"
   ]
  },
  {
   "cell_type": "code",
   "execution_count": 101,
   "metadata": {},
   "outputs": [
    {
     "data": {
      "text/plain": [
       "'https://www.theguardian.com/news/2023/feb/26/corrections-and-clarifications'"
      ]
     },
     "execution_count": 101,
     "metadata": {},
     "output_type": "execute_result"
    }
   ],
   "source": [
    "news_links[0]"
   ]
  },
  {
   "cell_type": "code",
   "execution_count": 120,
   "metadata": {},
   "outputs": [],
   "source": [
    "html = requests.get(news_links[1]).content\n"
   ]
  },
  {
   "cell_type": "code",
   "execution_count": 121,
   "metadata": {},
   "outputs": [],
   "source": [
    "soup = BeautifulSoup(html, \"html.parser\")"
   ]
  },
  {
   "cell_type": "code",
   "execution_count": 122,
   "metadata": {},
   "outputs": [],
   "source": [
    "news_text = soup.find_all('p', class_='dcr-h26idz')\n",
    "article = ''\n",
    "for p in news_text:\n",
    "    article = article + '\\n' + p.text\n"
   ]
  },
  {
   "cell_type": "code",
   "execution_count": 123,
   "metadata": {},
   "outputs": [
    {
     "name": "stdout",
     "output_type": "stream",
     "text": [
      "\n",
      " An opinion piece (Starmer was right to exile Corbyn…, 19 February, p33) said Jeremy Corbyn had in 2020 “accused the EHRC of ‘dramatically overstating’ the extent of antisemitism in the [Labour] party”; while Corbyn said he did not accept all of the Equalities and Human Rights Commission’s findings, it was in fact opponents and the media he accused of overstating the problem. The article also said Neil Kinnock told Labour’s 2010 conference: “We’ve got our party back”. This was a comment he recounted a trade unionist making to him at the conference after Ed Miliband was elected leader – to which Kinnock replied: “We never lost it”.\n",
      " In referring to the vehicle charging network InstaVolt, we said one of the company’s tasks in setting up a new charging site was “to find microchips to build it”. InstaVolt has told us its business model means it does not have such sourcing issues and has not been affected by global semiconductor shortages ( If you’re taking the Tesla to Truro this summer, you’d better plan ahead, 19 February, p3).\n",
      " An article about the Ukrainian football club Shakhtar Donetsk (Refugee FC, the exiled team with 40 million fans, 19 February, p28) misspelled the surname of Polina Minenko, a supporter and hotel manager who was interviewed, as “Milenk”.\n",
      " Bury New Road in Manchester was mistakenly referred to as New Bury Road (The gangs of ‘counterfeit alley’ – and the missing asylum children, 19 February, p10).\n",
      " Other recently amended articles include:\n",
      "Rose and the Burma Sky by Rosanna Amaka review – heartache and historical injustice\n",
      "Sixty years on, the housing estate I helped build is still being celebrated\n",
      "Owners of Centre Point flats tell of distress at £240,000 repair bills\n",
      "India enjoyed a free and vibrant media. Narendra Modi’s brazen attacks are a catastrophe\n",
      "Shock and wild celebration: exit of Sturgeon upends Scottish politics\n",
      " This column was amended on 27 February 2023. An earlier version was incorrect in saying an article meant to refer to “Bury New Street” in Manchester; it should have been Bury New Road.\n"
     ]
    }
   ],
   "source": [
    "print(article)\n"
   ]
  },
  {
   "cell_type": "code",
   "execution_count": null,
   "metadata": {},
   "outputs": [],
   "source": []
  }
 ],
 "metadata": {
  "kernelspec": {
   "display_name": "Python 3",
   "language": "python",
   "name": "python3"
  },
  "language_info": {
   "codemirror_mode": {
    "name": "ipython",
    "version": 3
   },
   "file_extension": ".py",
   "mimetype": "text/x-python",
   "name": "python",
   "nbconvert_exporter": "python",
   "pygments_lexer": "ipython3",
   "version": "3.10.4"
  },
  "orig_nbformat": 4,
  "vscode": {
   "interpreter": {
    "hash": "3ad933181bd8a04b432d3370b9dc3b0662ad032c4dfaa4e4f1596c548f763858"
   }
  }
 },
 "nbformat": 4,
 "nbformat_minor": 2
}
